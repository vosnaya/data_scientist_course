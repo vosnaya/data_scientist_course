{
  "metadata": {
    "kernelspec": {
      "name": "python",
      "display_name": "Python (Pyodide)",
      "language": "python"
    },
    "language_info": {
      "codemirror_mode": {
        "name": "python",
        "version": 3
      },
      "file_extension": ".py",
      "mimetype": "text/x-python",
      "name": "python",
      "nbconvert_exporter": "python",
      "pygments_lexer": "ipython3",
      "version": "3.8"
    }
  },
  "nbformat_minor": 5,
  "nbformat": 4,
  "cells": [
    {
      "id": "aa5c98c6-a001-4fdb-bb41-812f0fc2a331",
      "cell_type": "markdown",
      "source": "# Data Science Tools and Ecosystem",
      "metadata": {}
    },
    {
      "id": "4c03ae1f-ade5-4c45-bdc7-8c356868314b",
      "cell_type": "markdown",
      "source": "**In this notebook, Data Science Tools and Ecosystem are summarized.**",
      "metadata": {}
    },
    {
      "id": "ff3321b7-9aae-49b6-b8c2-3815678106ea",
      "cell_type": "markdown",
      "source": "**Objectives:**\n\n* List some programming languages used for Data Science\n* List some libraries commonly used in Data Science\n* List at least three development environtments used by Data Scientists\n* Use arithmetic operations in Python, include a comment related to the code",
      "metadata": {}
    },
    {
      "id": "da18ca83-8dc9-47f6-bb7f-a165abb9c3d3",
      "cell_type": "markdown",
      "source": "## Author\nVictor Hugo Osnaya Monter\n",
      "metadata": {}
    },
    {
      "id": "258ae55e-2806-42d0-93fc-508c377fc3f6",
      "cell_type": "markdown",
      "source": "Some of the popular languages that Data Scientists use are:\n\n1. Python\n2. R\n3. SQL\n4. Scala\n5. Julia",
      "metadata": {}
    },
    {
      "id": "47ca8e9b-52d4-4421-8fe0-a0c820a89911",
      "cell_type": "markdown",
      "source": "Some of the commonly used libraries used by Data Scientists include:\n\n1. Pandas (Python)\n2. Mathplotlib  (Python)\n3. Scikit-learn  (Python)\n4. Keras  (Python)\n5. TensorFlow  (Python)\n6. Pytorch  (Python)",
      "metadata": {}
    },
    {
      "id": "56ad6e31-70ac-43c0-95e1-f7287c627d3c",
      "cell_type": "markdown",
      "source": "**Data Science Tools**\n\n| Tool |\n| :----- |\n| Jupyther Notebooks (Anaconda, Google Colab, JupytherLite) |\n| R Studio |\n| Visual Studio Code |\n\n\n\n\n",
      "metadata": {}
    },
    {
      "id": "f103a64b-ecf7-43d0-ab57-d82a969669ca",
      "cell_type": "markdown",
      "source": "### Below are a few examples of evaluating arithmetic expressions in Python.",
      "metadata": {}
    },
    {
      "id": "6b522ad0-d978-4ded-af46-30836481960e",
      "cell_type": "code",
      "source": "## This a simple arithmetic expression to mutiply then add integers\n(3*4)+5",
      "metadata": {
        "trusted": true
      },
      "outputs": [
        {
          "execution_count": 1,
          "output_type": "execute_result",
          "data": {
            "text/plain": "17"
          },
          "metadata": {}
        }
      ],
      "execution_count": 1
    },
    {
      "id": "f52ac646-41cc-4785-8900-954739a3f8fe",
      "cell_type": "code",
      "source": "## This will convert 200 minutes to hours by diving by 60\n200/60",
      "metadata": {
        "trusted": true
      },
      "outputs": [
        {
          "execution_count": 2,
          "output_type": "execute_result",
          "data": {
            "text/plain": "3.3333333333333335"
          },
          "metadata": {}
        }
      ],
      "execution_count": 2
    },
    {
      "id": "0140a984-da68-49dc-9b6f-9aa05d51e7de",
      "cell_type": "code",
      "source": "",
      "metadata": {
        "trusted": true
      },
      "outputs": [],
      "execution_count": null
    }
  ]
}